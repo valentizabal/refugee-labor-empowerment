{
 "cells": [
  {
   "cell_type": "markdown",
   "metadata": {
    "cell_id": "f1fb2b17767a41c584649303934d7504",
    "deepnote_app_coordinates": {
     "h": 5,
     "w": 12,
     "x": 0,
     "y": 1
    },
    "deepnote_cell_type": "text-cell-h1",
    "formattedRanges": [],
    "id": "dJwEE3X51zUF",
    "is_collapsed": false,
    "tags": []
   },
   "source": [
    "# Most Favorable Labor Training for Refugees for Economic Self-sufficiency"
   ]
  },
  {
   "cell_type": "markdown",
   "metadata": {
    "cell_id": "e329bbacd8724b428db0ec91ca280a54",
    "deepnote_app_coordinates": {
     "h": 5,
     "w": 12,
     "x": 0,
     "y": 10
    },
    "deepnote_cell_type": "text-cell-h2",
    "formattedRanges": [],
    "id": "_iyxhUqC1zUI",
    "is_collapsed": false,
    "tags": []
   },
   "source": [
    "## Quick Highlights"
   ]
  },
  {
   "cell_type": "markdown",
   "metadata": {
    "cell_id": "867eea45-badf-48c4-9bbd-1fb748b1d12c",
    "deepnote_app_coordinates": {
     "h": 2,
     "w": 8,
     "x": 0,
     "y": 16
    },
    "deepnote_cell_type": "text-cell-bullet",
    "formattedRanges": [],
    "id": "p80I6k8p1zUI",
    "is_collapsed": false,
    "tags": []
   },
   "source": [
    "- The majority of Refugees arriving are of working age (21+)."
   ]
  },
  {
   "cell_type": "markdown",
   "metadata": {
    "cell_id": "6082e283-0ca0-495f-b3eb-e6673b12548d",
    "deepnote_app_coordinates": {
     "h": 2,
     "w": 8,
     "x": 0,
     "y": 16
    },
    "deepnote_cell_type": "text-cell-bullet",
    "formattedRanges": [],
    "id": "WEZJj2Qo1zUI",
    "is_collapsed": false,
    "tags": []
   },
   "source": [
    "- The Education and Health industry is the dominating labor sector for almost every State in the US."
   ]
  },
  {
   "cell_type": "markdown",
   "metadata": {
    "cell_id": "16e7ead2fd3546fb8f5b853011da7345",
    "deepnote_app_coordinates": {
     "h": 5,
     "w": 12,
     "x": 0,
     "y": 22
    },
    "deepnote_cell_type": "text-cell-h2",
    "formattedRanges": [],
    "id": "-eTqR3cT1zUJ",
    "is_collapsed": false,
    "tags": []
   },
   "source": [
    "## Background"
   ]
  },
  {
   "cell_type": "markdown",
   "metadata": {
    "cell_id": "600a40a3-6630-45b6-a2b9-c056c177fcff",
    "deepnote_app_coordinates": {
     "h": 2,
     "w": 8,
     "x": 0,
     "y": 28
    },
    "deepnote_cell_type": "text-cell-p",
    "formattedRanges": [
     {
      "fromCodePoint": 1134,
      "ranges": [],
      "toCodePoint": 1140,
      "type": "link",
      "url": "https://wenr.wes.org/2009/12/wenr-december-2009-feature"
     }
    ],
    "id": "tX0iU5271zUJ",
    "is_collapsed": false,
    "tags": []
   },
   "source": [
    "Thousands of refugees arrive in the United States every year, leaving their home countries for fear of persecution due to race, religion, nationality, political opinion, or membership in a particular social group. Once approved as a refugee by the USCIS, they will receive a loan for their travel to the U.S., a cultural orientation by a third-party organization, and medical and cash assistance eligibility. Otherwise, these individuals are responsible for achieving their own economic self-sufficiency, including job attainment and a place of residence. It's also important to note, that immigrants' foreign education degrees are often overlooked by employers or not recognized in the U.S. Due to this, as well as other barriers (such as having little to working knowledge of the English language), foreign-born workers are more likely to be employed in physical labor occupations such as service, construction, and maintenance, where their annual income is historically lower than other labor industries. This project aims to find which types of labor training will be most effective for refugees to achieve financial empowerment (Source)."
   ]
  },
  {
   "cell_type": "markdown",
   "metadata": {
    "cell_id": "0d6ebea81e2e4d8d9b71ad65a6090dc8",
    "deepnote_cell_type": "text-cell-h2",
    "formattedRanges": [],
    "id": "_cLCqnG41zUJ",
    "is_collapsed": false,
    "tags": []
   },
   "source": [
    "## Datasets"
   ]
  },
  {
   "cell_type": "markdown",
   "metadata": {
    "cell_id": "b49ed44c-abf8-4dc1-b4e7-f40fbdc4b1ab",
    "deepnote_cell_type": "text-cell-p",
    "formattedRanges": [],
    "id": "ZmVDMwjE1zUJ",
    "is_collapsed": false,
    "tags": []
   },
   "source": [
    "Our data analysis focused on three data sources: The Bureau of Labor Statistics (BLS) Employment Labor Force, the Department of Homeland Security's (DHS) Refugee and Asylee statistics, and the Worldwide Refugee Admissions Processing System (ç) Arrivals by State and Nationality."
   ]
  },
  {
   "cell_type": "markdown",
   "metadata": {
    "cell_id": "65ec7e8b8e6246c393750bc224db1110",
    "deepnote_cell_type": "text-cell-h3",
    "formattedRanges": [],
    "id": "XKXTZFKH1zUK",
    "is_collapsed": false,
    "tags": []
   },
   "source": [
    "### BLS Employment status of the experienced civilian labor force, by industry, 2021 annual averages"
   ]
  },
  {
   "cell_type": "markdown",
   "metadata": {
    "cell_id": "5aaf11fc-aafd-4337-8a26-fdb318b43dc4",
    "deepnote_cell_type": "text-cell-p",
    "formattedRanges": [],
    "id": "AFx2tIRG1zUK",
    "is_collapsed": false,
    "tags": []
   },
   "source": [
    "Shape: 204 rows, 17 columns"
   ]
  },
  {
   "cell_type": "markdown",
   "metadata": {
    "cell_id": "008611d8-b7ce-4a95-adad-b81e4bfff153",
    "deepnote_cell_type": "text-cell-p",
    "formattedRanges": [],
    "id": "2dumArTr1zUK",
    "is_collapsed": false,
    "tags": []
   },
   "source": [
    "Data uses estimates from the Current Population Survey, which is revised each year by the U.S. Census Bureau. This dataset specifically includes totals for the civilian workforce, those who are employed, and the unemployment rate. The labor industries included in this dataset are Mining, quarrying, oil and gas extraction, Construction, Manufacturing - Total, Manufacturing - Durable Goods, Manufacturing - NonDurable Goods, Wholesale and retail trade, Transportation and utilities, Information, Financial Activities, Professional and business/services, Education and health services, Leisure and hospitality, Other services, Public administration, and Agriculture and related industries. "
   ]
  },
  {
   "cell_type": "markdown",
   "metadata": {
    "cell_id": "da7b8d99-dfaa-4975-bd8b-d14c40988d46",
    "deepnote_cell_type": "text-cell-p",
    "formattedRanges": [],
    "id": "La7-2DPm1zUK",
    "is_collapsed": false,
    "tags": []
   },
   "source": [
    "For the purpose of this project, we will only be using the subset data of the number employed in each industry, and the industries with unreliable data (Mining/gas extraction, Information, and Agriculture industries) will be removed for a more accurate outlook of the job market."
   ]
  },
  {
   "cell_type": "markdown",
   "metadata": {
    "cell_id": "416552a2df1b4aca8c684e63536efab5",
    "deepnote_cell_type": "text-cell-h3",
    "formattedRanges": [],
    "id": "IvqtGXzI1zUK",
    "is_collapsed": false,
    "tags": []
   },
   "source": [
    "### DHS Refugee and Asylee statistics (2021)"
   ]
  },
  {
   "cell_type": "markdown",
   "metadata": {
    "cell_id": "712535f2-eb97-4024-8438-431c2607bc8b",
    "deepnote_cell_type": "text-cell-p",
    "formattedRanges": [],
    "id": "ebb0hueN1zUL",
    "is_collapsed": false,
    "tags": []
   },
   "source": [
    "Shape: 41 rows, 6 columns"
   ]
  },
  {
   "cell_type": "markdown",
   "metadata": {
    "cell_id": "7cd0a339-e3be-4166-ac5c-beddf1592bb0",
    "deepnote_cell_type": "text-cell-p",
    "formattedRanges": [],
    "id": "b7vN8QBi1zUL",
    "is_collapsed": false,
    "tags": []
   },
   "source": [
    "This data is obtained from the WRAPS of the Bureau of Population, Refugees, and Migration of the U.S. Department of State on the numbers and demographic profiles of persons admitted to the United States as refugees, and those applying for and granted asylum status during a given fiscal year. We will be using Table 15d which contains the refugee information regarding their age group, sex, marriage status, and number of children. "
   ]
  },
  {
   "cell_type": "markdown",
   "metadata": {
    "cell_id": "d504f9e2-b27f-4a62-a5a9-b31dc5098c24",
    "deepnote_cell_type": "text-cell-p",
    "formattedRanges": [],
    "id": "XaJsftP71zUL",
    "is_collapsed": false,
    "tags": []
   },
   "source": [
    "For the purpose of this project, we will only be utilizing the broad age groups for refugees."
   ]
  },
  {
   "cell_type": "markdown",
   "metadata": {
    "cell_id": "5d3954501651439b9bf34cbb9a5bda91",
    "deepnote_cell_type": "text-cell-h3",
    "formattedRanges": [],
    "id": "DKB6DTh81zUL",
    "is_collapsed": false,
    "tags": []
   },
   "source": [
    "### Refugee Processing Center's Refugee Arrivals by State and Nationality (FY 2022)"
   ]
  },
  {
   "cell_type": "markdown",
   "metadata": {
    "cell_id": "6119d906-5ab6-4e59-a00e-d94cb241a745",
    "deepnote_cell_type": "text-cell-p",
    "formattedRanges": [],
    "id": "iLS7AL2a1zUL",
    "is_collapsed": false,
    "tags": []
   },
   "source": [
    "Shape: 707 rows, 14 columns"
   ]
  },
  {
   "cell_type": "markdown",
   "metadata": {
    "cell_id": "eb63d9dd-700f-4a63-a58d-b382020d72f1",
    "deepnote_app_coordinates": {
     "h": 2,
     "w": 8,
     "x": 0,
     "y": 28
    },
    "deepnote_cell_type": "text-cell-p",
    "formattedRanges": [],
    "id": "yA7HcdIh1zUL",
    "is_collapsed": false,
    "tags": []
   },
   "source": [
    "WRAPS is a computer system that is currently used by the Department of State Bureau of Population, Refugees, and Migration to process and track the movement of refugees from various countries to the U.S. for resettlement. Reports are generated monthly and an annual report is released every October when the new Fiscal Year begins. This dataset contains monthly state totals of how many refugees are incoming and their countries of origin."
   ]
  },
  {
   "cell_type": "markdown",
   "metadata": {
    "cell_id": "74a3aabf04c3401e8534dd49984a2bf8",
    "deepnote_app_coordinates": {
     "h": 5,
     "w": 12,
     "x": 0,
     "y": 34
    },
    "deepnote_cell_type": "text-cell-h2",
    "formattedRanges": [],
    "id": "8HqrlQDd1zUL",
    "is_collapsed": false,
    "tags": []
   },
   "source": [
    "## Refugee Demographics"
   ]
  },
  {
   "cell_type": "markdown",
   "metadata": {
    "cell_id": "fcaa1520-c5a8-488d-8674-27e7b2cf43d1",
    "deepnote_app_coordinates": {
     "h": 2,
     "w": 8,
     "x": 0,
     "y": 40
    },
    "deepnote_cell_type": "text-cell-p",
    "formattedRanges": [],
    "id": "1TgCYlAA1zUL",
    "is_collapsed": false,
    "tags": []
   },
   "source": [
    "In the most recent Fiscal Year (2021 - 2022) the US accepted 25,465 refugees across 50 states."
   ]
  },
  {
   "cell_type": "markdown",
   "metadata": {
    "cell_id": "00cfb274a839470aa163ffebd7fc6444",
    "deepnote_app_coordinates": {
     "h": 5,
     "w": 12,
     "x": 0,
     "y": 43
    },
    "deepnote_cell_type": "text-cell-h3",
    "formattedRanges": [],
    "id": "TRWnfBsg1zUL",
    "is_collapsed": false,
    "tags": []
   },
   "source": [
    "### Countries of Origin"
   ]
  },
  {
   "cell_type": "markdown",
   "metadata": {
    "cell_id": "1b9dd2a7-c4bd-4711-a560-d531461d151f",
    "deepnote_app_coordinates": {
     "h": 2,
     "w": 8,
     "x": 0,
     "y": 49
    },
    "deepnote_cell_type": "text-cell-p",
    "formattedRanges": [],
    "id": "-3Z4Ntd71zUL",
    "is_collapsed": false,
    "tags": []
   },
   "source": [
    "shows the top countries that were represented in refugees admitted. There were56 Countries represented by refugees that have arrived. The top countries shown had around 500 + representatives, with the majority arriving from the Democratic Republic of Congo, which is currently experiencing numerous human rights violations from political turmoil, similar to the other countries in this list."
   ]
  },
  {
   "cell_type": "code",
   "execution_count": 1,
   "metadata": {
    "cell_id": "c4e20f188d374f44ae67d9f0df7ac45e",
    "deepnote_app_is_code_hidden": false,
    "deepnote_app_is_output_hidden": false,
    "deepnote_cell_type": "code",
    "deepnote_to_be_reexecuted": false,
    "execution_millis": 1616,
    "execution_start": 1673926502790,
    "id": "K5wd3eTz1zUM",
    "is_code_hidden": false,
    "is_output_hidden": false,
    "outputId": "92db796c-ace0-4559-8b6d-4c1c442f12b3",
    "source_hash": "4347bfde",
    "tags": []
   },
   "outputs": [
    {
     "data": {
      "image/png": "[encoded data removed]",
      "text/plain": [
       "<Figure size 432x288 with 1 Axes>"
      ]
     },
     "metadata": {
      "needs_background": "light"
     },
     "output_type": "display_data"
    }
   ],
   "source": [
    "import pandas as pd\n",
    "import numpy as np\n",
    "import seaborn as sns\n",
    "import matplotlib.pyplot as plt\n",
    "\n",
    "#loading data\n",
    "coo = pd.read_csv('data/refugee_state.csv')\n",
    "\n",
    "#clean\n",
    "coo['PA Nationality'] = coo['PA Nationality'].replace({'Dem . Rep . Con ..': 'Democratic Republic of Congo',\n",
    "                                     'Central African ..': 'Central African Republic',\n",
    "                                     'Republic of Sou ..': 'Republic of South Africa',\n",
    "                                     'Sri Lanka ( Ceyl ..': 'Sri Lanka (Ceylon)',\n",
    "                                     'Korea , North': 'North Korea'})\n",
    "coo = coo.rename(columns = {'Affiliate State Name' : 'State',\n",
    "                        'PA Nationality' : 'Country of Origin'})\n",
    "\n",
    "coo = coo.replace(np.nan, 0)\n",
    "\n",
    "#adding total column\n",
    "coo['Total'] = coo.sum(axis = 1)\n",
    "\n",
    "#more cleaning\n",
    "coo = coo.drop(columns = ['State', 'Oct', 'Nov', 'Dec', 'Jan', 'Feb', 'Mar',\n",
    "       'Apr', 'May', 'Jun', 'Jul', 'Aug', 'Sep'])\n",
    "\n",
    "#find top countries of origin\n",
    "coo_top = coo.groupby('Country of Origin').sum().sort_values(ascending = False, by = 'Total').head(10).reset_index()\n",
    "\n",
    "sns.barplot(data = coo_top, x = 'Total', y = 'Country of Origin', orient = 'h', palette=\"Blues_r\") \\\n",
    "            .set(title = '1a: Top Ten Refugee Countries of Origin (FY 2022) \\n');\n"
   ]
  },
  {
   "cell_type": "markdown",
   "metadata": {
    "cell_id": "c7e2afb0cbd74089a19baeb9bcc41865",
    "deepnote_app_coordinates": {
     "h": 5,
     "w": 12,
     "x": 0,
     "y": 67
    },
    "deepnote_cell_type": "text-cell-h3",
    "formattedRanges": [],
    "id": "BjTjIOsx1zUN",
    "is_collapsed": false,
    "tags": []
   },
   "source": [
    "### Age groups"
   ]
  },
  {
   "cell_type": "markdown",
   "metadata": {
    "cell_id": "1dc691bb-abe8-4c88-b06a-5defd46461f9",
    "deepnote_app_coordinates": {
     "h": 2,
     "w": 8,
     "x": 0,
     "y": 73
    },
    "deepnote_cell_type": "text-cell-p",
    "formattedRanges": [
     {
      "fromCodePoint": 310,
      "ranges": [],
      "toCodePoint": 323,
      "type": "link",
      "url": "https://nces.ed.gov/programs/statereform/tab5_1.asp"
     }
    ],
    "id": "VRBaHXMd1zUN",
    "is_collapsed": false,
    "tags": []
   },
   "source": [
    "The bar chart below demonstrates that the majority of the refugees arriving in the states are above the age of 21, meaning they are of working age. In the United States, minors are required to attend an educational institution until they are between 16 - 18, depending on the state in which they are residing (See more here). Since the majority of the individuals are over that age group, this indicates that the majority of refugees are ready to enter directly into the workforce."
   ]
  },
  {
   "cell_type": "code",
   "execution_count": 2,
   "metadata": {
    "cell_id": "eeaf9b08c7754433bf12c42de0b19eeb",
    "deepnote_app_is_code_hidden": false,
    "deepnote_cell_type": "code",
    "deepnote_table_loading": false,
    "deepnote_table_state": {
     "filters": [],
     "pageIndex": 2,
     "pageSize": 10,
     "sortBy": []
    },
    "deepnote_to_be_reexecuted": false,
    "execution_millis": 320,
    "execution_start": 1673926504411,
    "id": "f5voVHjy1zUN",
    "is_code_hidden": false,
    "outputId": "71866629-d8b1-4252-bded-067b19bbe1e8",
    "source_hash": "91a95680",
    "tags": []
   },
   "outputs": [
    {
     "data": {
      "image/png": "[encoded data removed]",
      "text/plain": [
       "<Figure size 432x288 with 1 Axes>"
      ]
     },
     "metadata": {
      "needs_background": "light"
     },
     "output_type": "display_data"
    }
   ],
   "source": [
    "#load data\n",
    "age = pd.read_csv(\"data/ref_demo.csv\", header=4)\n",
    "age = age[24:27]\n",
    "\n",
    "#clean\n",
    "age[\"Total\"] = age[\"Total\"].replace(\",\", \"\", regex=True).astype(int)\n",
    "age = age.drop(columns=[\"Unnamed: 2\", \"Spouses2\", \"Children\", \"Other\"]).sort_values(by = 'Total', ascending = False)\n",
    "\n",
    "sns.barplot(data = age, x = 'Characteristic', y = \"Total\", palette= 'Blues_r') \\\n",
    "             .set(title = '1b: Age Demographics for Refugees (FY 2021) \\n');\n"
   ]
  },
  {
   "cell_type": "markdown",
   "metadata": {
    "cell_id": "53d53367bf7a40f4a88ed16abb2e27a8",
    "deepnote_app_coordinates": {
     "h": 5,
     "w": 12,
     "x": 0,
     "y": 91
    },
    "deepnote_cell_type": "text-cell-h3",
    "formattedRanges": [],
    "id": "XXJd712S1zUN",
    "is_collapsed": false,
    "tags": []
   },
   "source": [
    "### Current US State of Residence"
   ]
  },
  {
   "cell_type": "markdown",
   "metadata": {
    "cell_id": "28ae15f1-d340-4641-8d7d-760e867a32e8",
    "deepnote_app_coordinates": {
     "h": 2,
     "w": 8,
     "x": 0,
     "y": 97
    },
    "deepnote_cell_type": "text-cell-p",
    "formattedRanges": [],
    "id": "VXQ3gSuX1zUN",
    "is_collapsed": false,
    "tags": []
   },
   "source": [
    "California and Texas significantly receive more refugees than any other state."
   ]
  },
  {
   "cell_type": "code",
   "execution_count": 11,
   "metadata": {
    "cell_id": "db97fbb1dbe149749ec0f2fc9ce52d7a",
    "deepnote_cell_type": "code",
    "deepnote_to_be_reexecuted": false,
    "execution_millis": 1231,
    "execution_start": 1673926628138,
    "id": "PHvY0soZ1zUN",
    "outputId": "ba33222c-b5d1-4ae0-fe5d-7e9f08c6b81b",
    "source_hash": "60bb5019",
    "tags": []
   },
   "outputs": [
    {
     "data": {
      "application/vnd.plotly.v1+json": {
       "config": {
        "plotlyServerURL": "https://plot.ly"
       },
       "data": [
        {
         "coloraxis": "coloraxis",
         "customdata": [
          [
           36
          ],
          [
           21
          ],
          [
           1033
          ],
          [
           72
          ],
          [
           2185
          ],
          [
           621
          ],
          [
           142
          ],
          [
           46
          ],
          [
           750
          ],
          [
           818
          ],
          [
           453
          ],
          [
           896
          ],
          [
           539
          ],
          [
           501
          ],
          [
           339
          ],
          [
           1275
          ],
          [
           22
          ],
          [
           103
          ],
          [
           498
          ],
          [
           512
          ],
          [
           1126
          ],
          [
           533
          ],
          [
           3
          ],
          [
           606
          ],
          [
           47
          ],
          [
           320
          ],
          [
           163
          ],
          [
           93
          ],
          [
           246
          ],
          [
           110
          ],
          [
           1374
          ],
          [
           1163
          ],
          [
           57
          ],
          [
           1141
          ],
          [
           70
          ],
          [
           307
          ],
          [
           1109
          ],
          [
           72
          ],
          [
           317
          ],
          [
           62
          ],
          [
           499
          ],
          [
           2118
          ],
          [
           450
          ],
          [
           91
          ],
          [
           637
          ],
          [
           1224
          ],
          [
           13
          ],
          [
           636
          ]
         ],
         "geo": "geo",
         "hovertemplate": "<b>%{hovertext}</b><br><br>abbreviation=%{location}<br>Total=%{z}<extra></extra>",
         "hovertext": [
          "Alabama",
          "Alaska",
          "Arizona",
          "Arkansas",
          "California",
          "Colorado",
          "Connecticut",
          "Delaware",
          "Florida",
          "Georgia",
          "Idaho",
          "Illinois",
          "Indiana",
          "Iowa",
          "Kansas",
          "Kentucky",
          "Louisiana",
          "Maine",
          "Maryland",
          "Massachusetts",
          "Michigan",
          "Minnesota",
          "Mississippi",
          "Missouri",
          "Montana",
          "Nebraska",
          "Nevada",
          "New Hampshire",
          "New Jersey",
          "New Mexico",
          "New York",
          "North Carolina",
          "North Dakota",
          "Ohio",
          "Oklahoma",
          "Oregon",
          "Pennsylvania",
          "Rhode Island",
          "South Carolina",
          "South Dakota",
          "Tennessee",
          "Texas",
          "Utah",
          "Vermont",
          "Virginia",
          "Washington",
          "West Virginia",
          "Wisconsin"
         ],
         "locationmode": "USA-states",
         "locations": [
          "AL",
          "AK",
          "AZ",
          "AR",
          "CA",
          "CO",
          "CT",
          "DE",
          "FL",
          "GA",
          "ID",
          "IL",
          "IN",
          "IA",
          "KS",
          "KY",
          "LA",
          "ME",
          "MD",
          "MA",
          "MI",
          "MN",
          "MS",
          "MO",
          "MT",
          "NE",
          "NV",
          "NH",
          "NJ",
          "NM",
          "NY",
          "NC",
          "ND",
          "OH",
          "OK",
          "OR",
          "PA",
          "RI",
          "SC",
          "SD",
          "TN",
          "TX",
          "UT",
          "VT",
          "VA",
          "WA",
          "WV",
          "WI"
         ],
         "name": "",
         "type": "choropleth",
         "z": [
          36,
          21,
          1033,
          72,
          2185,
          621,
          142,
          46,
          750,
          818,
          453,
          896,
          539,
          501,
          339,
          1275,
          22,
          103,
          498,
          512,
          1126,
          533,
          3,
          606,
          47,
          320,
          163,
          93,
          246,
          110,
          1374,
          1163,
          57,
          1141,
          70,
          307,
          1109,
          72,
          317,
          62,
          499,
          2118,
          450,
          91,
          637,
          1224,
          13,
          636
         ]
        }
       ],
       "layout": {
        "coloraxis": {
         "colorbar": {
          "title": {
           "text": "Total"
          }
         },
         "colorscale": [
          [
           0,
           "rgb(247,251,255)"
          ],
          [
           0.125,
           "rgb(222,235,247)"
          ],
          [
           0.25,
           "rgb(198,219,239)"
          ],
          [
           0.375,
           "rgb(158,202,225)"
          ],
          [
           0.5,
           "rgb(107,174,214)"
          ],
          [
           0.625,
           "rgb(66,146,198)"
          ],
          [
           0.75,
           "rgb(33,113,181)"
          ],
          [
           0.875,
           "rgb(8,81,156)"
          ],
          [
           1,
           "rgb(8,48,107)"
          ]
         ]
        },
        "geo": {
         "center": {},
         "domain": {
          "x": [
           0,
           1
          ],
          "y": [
           0,
           1
          ]
         },
         "scope": "usa"
        },
        "legend": {
         "tracegroupgap": 0
        },
        "template": {
         "data": {
          "bar": [
           {
            "error_x": {
             "color": "#2a3f5f"
            },
            "error_y": {
             "color": "#2a3f5f"
            },
            "marker": {
             "line": {
              "color": "#E5ECF6",
              "width": 0.5
             },
             "pattern": {
              "fillmode": "overlay",
              "size": 10,
              "solidity": 0.2
             }
            },
            "type": "bar"
           }
          ],
          "barpolar": [
           {
            "marker": {
             "line": {
              "color": "#E5ECF6",
              "width": 0.5
             },
             "pattern": {
              "fillmode": "overlay",
              "size": 10,
              "solidity": 0.2
             }
            },
            "type": "barpolar"
           }
          ],
          "carpet": [
           {
            "aaxis": {
             "endlinecolor": "#2a3f5f",
             "gridcolor": "white",
             "linecolor": "white",
             "minorgridcolor": "white",
             "startlinecolor": "#2a3f5f"
            },
            "baxis": {
             "endlinecolor": "#2a3f5f",
             "gridcolor": "white",
             "linecolor": "white",
             "minorgridcolor": "white",
             "startlinecolor": "#2a3f5f"
            },
            "type": "carpet"
           }
          ],
          "choropleth": [
           {
            "colorbar": {
             "outlinewidth": 0,
             "ticks": ""
            },
            "type": "choropleth"
           }
          ],
          "contour": [
           {
            "colorbar": {
             "outlinewidth": 0,
             "ticks": ""
            },
            "colorscale": [
             [
              0,
              "#0d0887"
             ],
             [
              0.1111111111111111,
              "#46039f"
             ],
             [
              0.2222222222222222,
              "#7201a8"
             ],
             [
              0.3333333333333333,
              "#9c179e"
             ],
             [
              0.4444444444444444,
              "#bd3786"
             ],
             [
              0.5555555555555556,
              "#d8576b"
             ],
             [
              0.6666666666666666,
              "#ed7953"
             ],
             [
              0.7777777777777778,
              "#fb9f3a"
             ],
             [
              0.8888888888888888,
              "#fdca26"
             ],
             [
              1,
              "#f0f921"
             ]
            ],
            "type": "contour"
           }
          ],
          "contourcarpet": [
           {
            "colorbar": {
             "outlinewidth": 0,
             "ticks": ""
            },
            "type": "contourcarpet"
           }
          ],
          "heatmap": [
           {
            "colorbar": {
             "outlinewidth": 0,
             "ticks": ""
            },
            "colorscale": [
             [
              0,
              "#0d0887"
             ],
             [
              0.1111111111111111,
              "#46039f"
             ],
             [
              0.2222222222222222,
              "#7201a8"
             ],
             [
              0.3333333333333333,
              "#9c179e"
             ],
             [
              0.4444444444444444,
              "#bd3786"
             ],
             [
              0.5555555555555556,
              "#d8576b"
             ],
             [
              0.6666666666666666,
              "#ed7953"
             ],
             [
              0.7777777777777778,
              "#fb9f3a"
             ],
             [
              0.8888888888888888,
              "#fdca26"
             ],
             [
              1,
              "#f0f921"
             ]
            ],
            "type": "heatmap"
           }
          ],
          "heatmapgl": [
           {
            "colorbar": {
             "outlinewidth": 0,
             "ticks": ""
            },
            "colorscale": [
             [
              0,
              "#0d0887"
             ],
             [
              0.1111111111111111,
              "#46039f"
             ],
             [
              0.2222222222222222,
              "#7201a8"
             ],
             [
              0.3333333333333333,
              "#9c179e"
             ],
             [
              0.4444444444444444,
              "#bd3786"
             ],
             [
              0.5555555555555556,
              "#d8576b"
             ],
             [
              0.6666666666666666,
              "#ed7953"
             ],
             [
              0.7777777777777778,
              "#fb9f3a"
             ],
             [
              0.8888888888888888,
              "#fdca26"
             ],
             [
              1,
              "#f0f921"
             ]
            ],
            "type": "heatmapgl"
           }
          ],
          "histogram": [
           {
            "marker": {
             "pattern": {
              "fillmode": "overlay",
              "size": 10,
              "solidity": 0.2
             }
            },
            "type": "histogram"
           }
          ],
          "histogram2d": [
           {
            "colorbar": {
             "outlinewidth": 0,
             "ticks": ""
            },
            "colorscale": [
             [
              0,
              "#0d0887"
             ],
             [
              0.1111111111111111,
              "#46039f"
             ],
             [
              0.2222222222222222,
              "#7201a8"
             ],
             [
              0.3333333333333333,
              "#9c179e"
             ],
             [
              0.4444444444444444,
              "#bd3786"
             ],
             [
              0.5555555555555556,
              "#d8576b"
             ],
             [
              0.6666666666666666,
              "#ed7953"
             ],
             [
              0.7777777777777778,
              "#fb9f3a"
             ],
             [
              0.8888888888888888,
              "#fdca26"
             ],
             [
              1,
              "#f0f921"
             ]
            ],
            "type": "histogram2d"
           }
          ],
          "histogram2dcontour": [
           {
            "colorbar": {
             "outlinewidth": 0,
             "ticks": ""
            },
            "colorscale": [
             [
              0,
              "#0d0887"
             ],
             [
              0.1111111111111111,
              "#46039f"
             ],
             [
              0.2222222222222222,
              "#7201a8"
             ],
             [
              0.3333333333333333,
              "#9c179e"
             ],
             [
              0.4444444444444444,
              "#bd3786"
             ],
             [
              0.5555555555555556,
              "#d8576b"
             ],
             [
              0.6666666666666666,
              "#ed7953"
             ],
             [
              0.7777777777777778,
              "#fb9f3a"
             ],
             [
              0.8888888888888888,
              "#fdca26"
             ],
             [
              1,
              "#f0f921"
             ]
            ],
            "type": "histogram2dcontour"
           }
          ],
          "mesh3d": [
           {
            "colorbar": {
             "outlinewidth": 0,
             "ticks": ""
            },
            "type": "mesh3d"
           }
          ],
          "parcoords": [
           {
            "line": {
             "colorbar": {
              "outlinewidth": 0,
              "ticks": ""
             }
            },
            "type": "parcoords"
           }
          ],
          "pie": [
           {
            "automargin": true,
            "type": "pie"
           }
          ],
          "scatter": [
           {
            "fillpattern": {
             "fillmode": "overlay",
             "size": 10,
             "solidity": 0.2
            },
            "type": "scatter"
           }
          ],
          "scatter3d": [
           {
            "line": {
             "colorbar": {
              "outlinewidth": 0,
              "ticks": ""
             }
            },
            "marker": {
             "colorbar": {
              "outlinewidth": 0,
              "ticks": ""
             }
            },
            "type": "scatter3d"
           }
          ],
          "scattercarpet": [
           {
            "marker": {
             "colorbar": {
              "outlinewidth": 0,
              "ticks": ""
             }
            },
            "type": "scattercarpet"
           }
          ],
          "scattergeo": [
           {
            "marker": {
             "colorbar": {
              "outlinewidth": 0,
              "ticks": ""
             }
            },
            "type": "scattergeo"
           }
          ],
          "scattergl": [
           {
            "marker": {
             "colorbar": {
              "outlinewidth": 0,
              "ticks": ""
             }
            },
            "type": "scattergl"
           }
          ],
          "scattermapbox": [
           {
            "marker": {
             "colorbar": {
              "outlinewidth": 0,
              "ticks": ""
             }
            },
            "type": "scattermapbox"
           }
          ],
          "scatterpolar": [
           {
            "marker": {
             "colorbar": {
              "outlinewidth": 0,
              "ticks": ""
             }
            },
            "type": "scatterpolar"
           }
          ],
          "scatterpolargl": [
           {
            "marker": {
             "colorbar": {
              "outlinewidth": 0,
              "ticks": ""
             }
            },
            "type": "scatterpolargl"
           }
          ],
          "scatterternary": [
           {
            "marker": {
             "colorbar": {
              "outlinewidth": 0,
              "ticks": ""
             }
            },
            "type": "scatterternary"
           }
          ],
          "surface": [
           {
            "colorbar": {
             "outlinewidth": 0,
             "ticks": ""
            },
            "colorscale": [
             [
              0,
              "#0d0887"
             ],
             [
              0.1111111111111111,
              "#46039f"
             ],
             [
              0.2222222222222222,
              "#7201a8"
             ],
             [
              0.3333333333333333,
              "#9c179e"
             ],
             [
              0.4444444444444444,
              "#bd3786"
             ],
             [
              0.5555555555555556,
              "#d8576b"
             ],
             [
              0.6666666666666666,
              "#ed7953"
             ],
             [
              0.7777777777777778,
              "#fb9f3a"
             ],
             [
              0.8888888888888888,
              "#fdca26"
             ],
             [
              1,
              "#f0f921"
             ]
            ],
            "type": "surface"
           }
          ],
          "table": [
           {
            "cells": {
             "fill": {
              "color": "#EBF0F8"
             },
             "line": {
              "color": "white"
             }
            },
            "header": {
             "fill": {
              "color": "#C8D4E3"
             },
             "line": {
              "color": "white"
             }
            },
            "type": "table"
           }
          ]
         },
         "layout": {
          "annotationdefaults": {
           "arrowcolor": "#2a3f5f",
           "arrowhead": 0,
           "arrowwidth": 1
          },
          "autotypenumbers": "strict",
          "coloraxis": {
           "colorbar": {
            "outlinewidth": 0,
            "ticks": ""
           }
          },
          "colorscale": {
           "diverging": [
            [
             0,
             "#8e0152"
            ],
            [
             0.1,
             "#c51b7d"
            ],
            [
             0.2,
             "#de77ae"
            ],
            [
             0.3,
             "#f1b6da"
            ],
            [
             0.4,
             "#fde0ef"
            ],
            [
             0.5,
             "#f7f7f7"
            ],
            [
             0.6,
             "#e6f5d0"
            ],
            [
             0.7,
             "#b8e186"
            ],
            [
             0.8,
             "#7fbc41"
            ],
            [
             0.9,
             "#4d9221"
            ],
            [
             1,
             "#276419"
            ]
           ],
           "sequential": [
            [
             0,
             "#0d0887"
            ],
            [
             0.1111111111111111,
             "#46039f"
            ],
            [
             0.2222222222222222,
             "#7201a8"
            ],
            [
             0.3333333333333333,
             "#9c179e"
            ],
            [
             0.4444444444444444,
             "#bd3786"
            ],
            [
             0.5555555555555556,
             "#d8576b"
            ],
            [
             0.6666666666666666,
             "#ed7953"
            ],
            [
             0.7777777777777778,
             "#fb9f3a"
            ],
            [
             0.8888888888888888,
             "#fdca26"
            ],
            [
             1,
             "#f0f921"
            ]
           ],
           "sequentialminus": [
            [
             0,
             "#0d0887"
            ],
            [
             0.1111111111111111,
             "#46039f"
            ],
            [
             0.2222222222222222,
             "#7201a8"
            ],
            [
             0.3333333333333333,
             "#9c179e"
            ],
            [
             0.4444444444444444,
             "#bd3786"
            ],
            [
             0.5555555555555556,
             "#d8576b"
            ],
            [
             0.6666666666666666,
             "#ed7953"
            ],
            [
             0.7777777777777778,
             "#fb9f3a"
            ],
            [
             0.8888888888888888,
             "#fdca26"
            ],
            [
             1,
             "#f0f921"
            ]
           ]
          },
          "colorway": [
           "#636efa",
           "#EF553B",
           "#00cc96",
           "#ab63fa",
           "#FFA15A",
           "#19d3f3",
           "#FF6692",
           "#B6E880",
           "#FF97FF",
           "#FECB52"
          ],
          "font": {
           "color": "#2a3f5f"
          },
          "geo": {
           "bgcolor": "white",
           "lakecolor": "white",
           "landcolor": "#E5ECF6",
           "showlakes": true,
           "showland": true,
           "subunitcolor": "white"
          },
          "hoverlabel": {
           "align": "left"
          },
          "hovermode": "closest",
          "mapbox": {
           "style": "light"
          },
          "paper_bgcolor": "white",
          "plot_bgcolor": "#E5ECF6",
          "polar": {
           "angularaxis": {
            "gridcolor": "white",
            "linecolor": "white",
            "ticks": ""
           },
           "bgcolor": "#E5ECF6",
           "radialaxis": {
            "gridcolor": "white",
            "linecolor": "white",
            "ticks": ""
           }
          },
          "scene": {
           "xaxis": {
            "backgroundcolor": "#E5ECF6",
            "gridcolor": "white",
            "gridwidth": 2,
            "linecolor": "white",
            "showbackground": true,
            "ticks": "",
            "zerolinecolor": "white"
           },
           "yaxis": {
            "backgroundcolor": "#E5ECF6",
            "gridcolor": "white",
            "gridwidth": 2,
            "linecolor": "white",
            "showbackground": true,
            "ticks": "",
            "zerolinecolor": "white"
           },
           "zaxis": {
            "backgroundcolor": "#E5ECF6",
            "gridcolor": "white",
            "gridwidth": 2,
            "linecolor": "white",
            "showbackground": true,
            "ticks": "",
            "zerolinecolor": "white"
           }
          },
          "shapedefaults": {
           "line": {
            "color": "#2a3f5f"
           }
          },
          "ternary": {
           "aaxis": {
            "gridcolor": "white",
            "linecolor": "white",
            "ticks": ""
           },
           "baxis": {
            "gridcolor": "white",
            "linecolor": "white",
            "ticks": ""
           },
           "bgcolor": "#E5ECF6",
           "caxis": {
            "gridcolor": "white",
            "linecolor": "white",
            "ticks": ""
           }
          },
          "title": {
           "x": 0.05
          },
          "xaxis": {
           "automargin": true,
           "gridcolor": "white",
           "linecolor": "white",
           "ticks": "",
           "title": {
            "standoff": 15
           },
           "zerolinecolor": "white",
           "zerolinewidth": 2
          },
          "yaxis": {
           "automargin": true,
           "gridcolor": "white",
           "linecolor": "white",
           "ticks": "",
           "title": {
            "standoff": 15
           },
           "zerolinecolor": "white",
           "zerolinewidth": 2
          }
         }
        },
        "title": {
         "text": "1c: U.S States Receiving Refugees"
        }
       }
      },
      "text/html": [
       "<div>                            <div id=\"a39a68ea-8a4e-4ec7-8328-126ea6d73f4a\" class=\"plotly-graph-div\" style=\"height:525px; width:100%;\"></div>            <script type=\"text/javascript\">                require([\"plotly\"], function(Plotly) {                    window.PLOTLYENV=window.PLOTLYENV || {};                                    if (document.getElementById(\"a39a68ea-8a4e-4ec7-8328-126ea6d73f4a\")) {                    Plotly.newPlot(                        \"a39a68ea-8a4e-4ec7-8328-126ea6d73f4a\",                        [{\"coloraxis\":\"coloraxis\",\"customdata\":[[36],[21],[1033],[72],[2185],[621],[142],[46],[750],[818],[453],[896],[539],[501],[339],[1275],[22],[103],[498],[512],[1126],[533],[3],[606],[47],[320],[163],[93],[246],[110],[1374],[1163],[57],[1141],[70],[307],[1109],[72],[317],[62],[499],[2118],[450],[91],[637],[1224],[13],[636]],\"geo\":\"geo\",\"hovertemplate\":\"<b>%{hovertext}</b><br><br>abbreviation=%{location}<br>Total=%{z}<extra></extra>\",\"hovertext\":[\"Alabama\",\"Alaska\",\"Arizona\",\"Arkansas\",\"California\",\"Colorado\",\"Connecticut\",\"Delaware\",\"Florida\",\"Georgia\",\"Idaho\",\"Illinois\",\"Indiana\",\"Iowa\",\"Kansas\",\"Kentucky\",\"Louisiana\",\"Maine\",\"Maryland\",\"Massachusetts\",\"Michigan\",\"Minnesota\",\"Mississippi\",\"Missouri\",\"Montana\",\"Nebraska\",\"Nevada\",\"New Hampshire\",\"New Jersey\",\"New Mexico\",\"New York\",\"North Carolina\",\"North Dakota\",\"Ohio\",\"Oklahoma\",\"Oregon\",\"Pennsylvania\",\"Rhode Island\",\"South Carolina\",\"South Dakota\",\"Tennessee\",\"Texas\",\"Utah\",\"Vermont\",\"Virginia\",\"Washington\",\"West Virginia\",\"Wisconsin\"],\"locationmode\":\"USA-states\",\"locations\":[\"AL\",\"AK\",\"AZ\",\"AR\",\"CA\",\"CO\",\"CT\",\"DE\",\"FL\",\"GA\",\"ID\",\"IL\",\"IN\",\"IA\",\"KS\",\"KY\",\"LA\",\"ME\",\"MD\",\"MA\",\"MI\",\"MN\",\"MS\",\"MO\",\"MT\",\"NE\",\"NV\",\"NH\",\"NJ\",\"NM\",\"NY\",\"NC\",\"ND\",\"OH\",\"OK\",\"OR\",\"PA\",\"RI\",\"SC\",\"SD\",\"TN\",\"TX\",\"UT\",\"VT\",\"VA\",\"WA\",\"WV\",\"WI\"],\"name\":\"\",\"z\":[36,21,1033,72,2185,621,142,46,750,818,453,896,539,501,339,1275,22,103,498,512,1126,533,3,606,47,320,163,93,246,110,1374,1163,57,1141,70,307,1109,72,317,62,499,2118,450,91,637,1224,13,636],\"type\":\"choropleth\"}],                        {\"template\":{\"data\":{\"histogram2dcontour\":[{\"type\":\"histogram2dcontour\",\"colorbar\":{\"outlinewidth\":0,\"ticks\":\"\"},\"colorscale\":[[0.0,\"#0d0887\"],[0.1111111111111111,\"#46039f\"],[0.2222222222222222,\"#7201a8\"],[0.3333333333333333,\"#9c179e\"],[0.4444444444444444,\"#bd3786\"],[0.5555555555555556,\"#d8576b\"],[0.6666666666666666,\"#ed7953\"],[0.7777777777777778,\"#fb9f3a\"],[0.8888888888888888,\"#fdca26\"],[1.0,\"#f0f921\"]]}],\"choropleth\":[{\"type\":\"choropleth\",\"colorbar\":{\"outlinewidth\":0,\"ticks\":\"\"}}],\"histogram2d\":[{\"type\":\"histogram2d\",\"colorbar\":{\"outlinewidth\":0,\"ticks\":\"\"},\"colorscale\":[[0.0,\"#0d0887\"],[0.1111111111111111,\"#46039f\"],[0.2222222222222222,\"#7201a8\"],[0.3333333333333333,\"#9c179e\"],[0.4444444444444444,\"#bd3786\"],[0.5555555555555556,\"#d8576b\"],[0.6666666666666666,\"#ed7953\"],[0.7777777777777778,\"#fb9f3a\"],[0.8888888888888888,\"#fdca26\"],[1.0,\"#f0f921\"]]}],\"heatmap\":[{\"type\":\"heatmap\",\"colorbar\":{\"outlinewidth\":0,\"ticks\":\"\"},\"colorscale\":[[0.0,\"#0d0887\"],[0.1111111111111111,\"#46039f\"],[0.2222222222222222,\"#7201a8\"],[0.3333333333333333,\"#9c179e\"],[0.4444444444444444,\"#bd3786\"],[0.5555555555555556,\"#d8576b\"],[0.6666666666666666,\"#ed7953\"],[0.7777777777777778,\"#fb9f3a\"],[0.8888888888888888,\"#fdca26\"],[1.0,\"#f0f921\"]]}],\"heatmapgl\":[{\"type\":\"heatmapgl\",\"colorbar\":{\"outlinewidth\":0,\"ticks\":\"\"},\"colorscale\":[[0.0,\"#0d0887\"],[0.1111111111111111,\"#46039f\"],[0.2222222222222222,\"#7201a8\"],[0.3333333333333333,\"#9c179e\"],[0.4444444444444444,\"#bd3786\"],[0.5555555555555556,\"#d8576b\"],[0.6666666666666666,\"#ed7953\"],[0.7777777777777778,\"#fb9f3a\"],[0.8888888888888888,\"#fdca26\"],[1.0,\"#f0f921\"]]}],\"contourcarpet\":[{\"type\":\"contourcarpet\",\"colorbar\":{\"outlinewidth\":0,\"ticks\":\"\"}}],\"contour\":[{\"type\":\"contour\",\"colorbar\":{\"outlinewidth\":0,\"ticks\":\"\"},\"colorscale\":[[0.0,\"#0d0887\"],[0.1111111111111111,\"#46039f\"],[0.2222222222222222,\"#7201a8\"],[0.3333333333333333,\"#9c179e\"],[0.4444444444444444,\"#bd3786\"],[0.5555555555555556,\"#d8576b\"],[0.6666666666666666,\"#ed7953\"],[0.7777777777777778,\"#fb9f3a\"],[0.8888888888888888,\"#fdca26\"],[1.0,\"#f0f921\"]]}],\"surface\":[{\"type\":\"surface\",\"colorbar\":{\"outlinewidth\":0,\"ticks\":\"\"},\"colorscale\":[[0.0,\"#0d0887\"],[0.1111111111111111,\"#46039f\"],[0.2222222222222222,\"#7201a8\"],[0.3333333333333333,\"#9c179e\"],[0.4444444444444444,\"#bd3786\"],[0.5555555555555556,\"#d8576b\"],[0.6666666666666666,\"#ed7953\"],[0.7777777777777778,\"#fb9f3a\"],[0.8888888888888888,\"#fdca26\"],[1.0,\"#f0f921\"]]}],\"mesh3d\":[{\"type\":\"mesh3d\",\"colorbar\":{\"outlinewidth\":0,\"ticks\":\"\"}}],\"scatter\":[{\"fillpattern\":{\"fillmode\":\"overlay\",\"size\":10,\"solidity\":0.2},\"type\":\"scatter\"}],\"parcoords\":[{\"type\":\"parcoords\",\"line\":{\"colorbar\":{\"outlinewidth\":0,\"ticks\":\"\"}}}],\"scatterpolargl\":[{\"type\":\"scatterpolargl\",\"marker\":{\"colorbar\":{\"outlinewidth\":0,\"ticks\":\"\"}}}],\"bar\":[{\"error_x\":{\"color\":\"#2a3f5f\"},\"error_y\":{\"color\":\"#2a3f5f\"},\"marker\":{\"line\":{\"color\":\"#E5ECF6\",\"width\":0.5},\"pattern\":{\"fillmode\":\"overlay\",\"size\":10,\"solidity\":0.2}},\"type\":\"bar\"}],\"scattergeo\":[{\"type\":\"scattergeo\",\"marker\":{\"colorbar\":{\"outlinewidth\":0,\"ticks\":\"\"}}}],\"scatterpolar\":[{\"type\":\"scatterpolar\",\"marker\":{\"colorbar\":{\"outlinewidth\":0,\"ticks\":\"\"}}}],\"histogram\":[{\"marker\":{\"pattern\":{\"fillmode\":\"overlay\",\"size\":10,\"solidity\":0.2}},\"type\":\"histogram\"}],\"scattergl\":[{\"type\":\"scattergl\",\"marker\":{\"colorbar\":{\"outlinewidth\":0,\"ticks\":\"\"}}}],\"scatter3d\":[{\"type\":\"scatter3d\",\"line\":{\"colorbar\":{\"outlinewidth\":0,\"ticks\":\"\"}},\"marker\":{\"colorbar\":{\"outlinewidth\":0,\"ticks\":\"\"}}}],\"scattermapbox\":[{\"type\":\"scattermapbox\",\"marker\":{\"colorbar\":{\"outlinewidth\":0,\"ticks\":\"\"}}}],\"scatterternary\":[{\"type\":\"scatterternary\",\"marker\":{\"colorbar\":{\"outlinewidth\":0,\"ticks\":\"\"}}}],\"scattercarpet\":[{\"type\":\"scattercarpet\",\"marker\":{\"colorbar\":{\"outlinewidth\":0,\"ticks\":\"\"}}}],\"carpet\":[{\"aaxis\":{\"endlinecolor\":\"#2a3f5f\",\"gridcolor\":\"white\",\"linecolor\":\"white\",\"minorgridcolor\":\"white\",\"startlinecolor\":\"#2a3f5f\"},\"baxis\":{\"endlinecolor\":\"#2a3f5f\",\"gridcolor\":\"white\",\"linecolor\":\"white\",\"minorgridcolor\":\"white\",\"startlinecolor\":\"#2a3f5f\"},\"type\":\"carpet\"}],\"table\":[{\"cells\":{\"fill\":{\"color\":\"#EBF0F8\"},\"line\":{\"color\":\"white\"}},\"header\":{\"fill\":{\"color\":\"#C8D4E3\"},\"line\":{\"color\":\"white\"}},\"type\":\"table\"}],\"barpolar\":[{\"marker\":{\"line\":{\"color\":\"#E5ECF6\",\"width\":0.5},\"pattern\":{\"fillmode\":\"overlay\",\"size\":10,\"solidity\":0.2}},\"type\":\"barpolar\"}],\"pie\":[{\"automargin\":true,\"type\":\"pie\"}]},\"layout\":{\"autotypenumbers\":\"strict\",\"colorway\":[\"#636efa\",\"#EF553B\",\"#00cc96\",\"#ab63fa\",\"#FFA15A\",\"#19d3f3\",\"#FF6692\",\"#B6E880\",\"#FF97FF\",\"#FECB52\"],\"font\":{\"color\":\"#2a3f5f\"},\"hovermode\":\"closest\",\"hoverlabel\":{\"align\":\"left\"},\"paper_bgcolor\":\"white\",\"plot_bgcolor\":\"#E5ECF6\",\"polar\":{\"bgcolor\":\"#E5ECF6\",\"angularaxis\":{\"gridcolor\":\"white\",\"linecolor\":\"white\",\"ticks\":\"\"},\"radialaxis\":{\"gridcolor\":\"white\",\"linecolor\":\"white\",\"ticks\":\"\"}},\"ternary\":{\"bgcolor\":\"#E5ECF6\",\"aaxis\":{\"gridcolor\":\"white\",\"linecolor\":\"white\",\"ticks\":\"\"},\"baxis\":{\"gridcolor\":\"white\",\"linecolor\":\"white\",\"ticks\":\"\"},\"caxis\":{\"gridcolor\":\"white\",\"linecolor\":\"white\",\"ticks\":\"\"}},\"coloraxis\":{\"colorbar\":{\"outlinewidth\":0,\"ticks\":\"\"}},\"colorscale\":{\"sequential\":[[0.0,\"#0d0887\"],[0.1111111111111111,\"#46039f\"],[0.2222222222222222,\"#7201a8\"],[0.3333333333333333,\"#9c179e\"],[0.4444444444444444,\"#bd3786\"],[0.5555555555555556,\"#d8576b\"],[0.6666666666666666,\"#ed7953\"],[0.7777777777777778,\"#fb9f3a\"],[0.8888888888888888,\"#fdca26\"],[1.0,\"#f0f921\"]],\"sequentialminus\":[[0.0,\"#0d0887\"],[0.1111111111111111,\"#46039f\"],[0.2222222222222222,\"#7201a8\"],[0.3333333333333333,\"#9c179e\"],[0.4444444444444444,\"#bd3786\"],[0.5555555555555556,\"#d8576b\"],[0.6666666666666666,\"#ed7953\"],[0.7777777777777778,\"#fb9f3a\"],[0.8888888888888888,\"#fdca26\"],[1.0,\"#f0f921\"]],\"diverging\":[[0,\"#8e0152\"],[0.1,\"#c51b7d\"],[0.2,\"#de77ae\"],[0.3,\"#f1b6da\"],[0.4,\"#fde0ef\"],[0.5,\"#f7f7f7\"],[0.6,\"#e6f5d0\"],[0.7,\"#b8e186\"],[0.8,\"#7fbc41\"],[0.9,\"#4d9221\"],[1,\"#276419\"]]},\"xaxis\":{\"gridcolor\":\"white\",\"linecolor\":\"white\",\"ticks\":\"\",\"title\":{\"standoff\":15},\"zerolinecolor\":\"white\",\"automargin\":true,\"zerolinewidth\":2},\"yaxis\":{\"gridcolor\":\"white\",\"linecolor\":\"white\",\"ticks\":\"\",\"title\":{\"standoff\":15},\"zerolinecolor\":\"white\",\"automargin\":true,\"zerolinewidth\":2},\"scene\":{\"xaxis\":{\"backgroundcolor\":\"#E5ECF6\",\"gridcolor\":\"white\",\"linecolor\":\"white\",\"showbackground\":true,\"ticks\":\"\",\"zerolinecolor\":\"white\",\"gridwidth\":2},\"yaxis\":{\"backgroundcolor\":\"#E5ECF6\",\"gridcolor\":\"white\",\"linecolor\":\"white\",\"showbackground\":true,\"ticks\":\"\",\"zerolinecolor\":\"white\",\"gridwidth\":2},\"zaxis\":{\"backgroundcolor\":\"#E5ECF6\",\"gridcolor\":\"white\",\"linecolor\":\"white\",\"showbackground\":true,\"ticks\":\"\",\"zerolinecolor\":\"white\",\"gridwidth\":2}},\"shapedefaults\":{\"line\":{\"color\":\"#2a3f5f\"}},\"annotationdefaults\":{\"arrowcolor\":\"#2a3f5f\",\"arrowhead\":0,\"arrowwidth\":1},\"geo\":{\"bgcolor\":\"white\",\"landcolor\":\"#E5ECF6\",\"subunitcolor\":\"white\",\"showland\":true,\"showlakes\":true,\"lakecolor\":\"white\"},\"title\":{\"x\":0.05},\"mapbox\":{\"style\":\"light\"}}},\"geo\":{\"domain\":{\"x\":[0.0,1.0],\"y\":[0.0,1.0]},\"center\":{},\"scope\":\"usa\"},\"coloraxis\":{\"colorbar\":{\"title\":{\"text\":\"Total\"}},\"colorscale\":[[0.0,\"rgb(247,251,255)\"],[0.125,\"rgb(222,235,247)\"],[0.25,\"rgb(198,219,239)\"],[0.375,\"rgb(158,202,225)\"],[0.5,\"rgb(107,174,214)\"],[0.625,\"rgb(66,146,198)\"],[0.75,\"rgb(33,113,181)\"],[0.875,\"rgb(8,81,156)\"],[1.0,\"rgb(8,48,107)\"]]},\"legend\":{\"tracegroupgap\":0},\"title\":{\"text\":\"1c: U.S States Receiving Refugees\"}},                        {\"responsive\": true}                    ).then(function(){\n",
       "                            \n",
       "var gd = document.getElementById('a39a68ea-8a4e-4ec7-8328-126ea6d73f4a');\n",
       "var x = new MutationObserver(function (mutations, observer) {{\n",
       "        var display = window.getComputedStyle(gd).display;\n",
       "        if (!display || display === 'none') {{\n",
       "            console.log([gd, 'removed!']);\n",
       "            Plotly.purge(gd);\n",
       "            observer.disconnect();\n",
       "        }}\n",
       "}});\n",
       "\n",
       "// Listen for the removal of the full notebook cells\n",
       "var notebookContainer = gd.closest('#notebook-container');\n",
       "if (notebookContainer) {{\n",
       "    x.observe(notebookContainer, {childList: true});\n",
       "}}\n",
       "\n",
       "// Listen for the clearing of the current output cell\n",
       "var outputEl = gd.closest('.output');\n",
       "if (outputEl) {{\n",
       "    x.observe(outputEl, {childList: true});\n",
       "}}\n",
       "\n",
       "                        })                };                });            </script>        </div>"
      ]
     },
     "metadata": {},
     "output_type": "display_data"
    }
   ],
   "source": [
    "import plotly.express as px\n",
    "\n",
    "#load data\n",
    "state_res = pd.read_csv('data/refugee_state.csv')\n",
    "\n",
    "#clean\n",
    "state_res = state_res.replace(np.nan, '0')\n",
    "state_res = state_res.rename(columns = {'Affiliate State Name' : 'State'})\n",
    "state_res = state_res.drop(columns = 'PA Nationality')\n",
    "months = ['Oct', 'Nov', 'Dec', 'Jan', 'Feb', 'Mar', 'Apr', 'May', 'Jun', 'Jul', 'Aug', 'Sep']\n",
    "state_res[months] = state_res[months].astype(int)\n",
    "\n",
    "#create total column\n",
    "state_res['Total'] = state_res.sum(axis = 1)\n",
    "state_res = state_res.drop(columns = months) #once total calculated, drop month columns\n",
    "\n",
    "#df with total for all states\n",
    "state_total = state_res.groupby('State').sum().sort_values(by='Total', ascending = False)\n",
    "\n",
    "#data prepping\n",
    "state_abbv = pd.read_csv('https://worldpopulationreview.com/static/states/abbr-name-list.csv')\n",
    "\n",
    "state_total = state_total.reset_index()\n",
    "state_total_code = pd.merge(state_abbv, state_total, left_on='name', right_on='State')\n",
    "state_total_code = state_total_code.drop(columns='name')\n",
    "state_total_code\n",
    "\n",
    "#create choropleth map\n",
    "fig = px.choropleth(data_frame = state_total_code,\n",
    "                    locations= 'abbreviation', \n",
    "                    locationmode=\"USA-states\", \n",
    "                    color= state_total_code['Total'],\n",
    "                    color_continuous_scale= 'Blues', \n",
    "                    hover_name= 'State',\n",
    "                    hover_data= ['Total'],\n",
    "                    scope=\"usa\",\n",
    "                    title = '1c: U.S States Receiving Refugees')\n",
    "fig.show()"
   ]
  },
  {
   "cell_type": "markdown",
   "metadata": {
    "cell_id": "b092561855b24124a8a5c5aaf9e1656c",
    "deepnote_cell_type": "text-cell-p",
    "formattedRanges": [],
    "id": "bU7oRNy-1zUO",
    "is_collapsed": false,
    "tags": []
   },
   "source": [
    "Below are the top ten states with the highest Refugee acceptance in 2022"
   ]
  },
  {
   "cell_type": "code",
   "execution_count": 12,
   "metadata": {
    "cell_id": "7938a36ae9794c0ca0b48a4416b5f0af",
    "deepnote_app_coordinates": {
     "h": 5,
     "w": 12,
     "x": 0,
     "y": 100
    },
    "deepnote_app_is_code_hidden": true,
    "deepnote_cell_type": "code",
    "deepnote_to_be_reexecuted": false,
    "execution_millis": 426,
    "execution_start": 1673926633706,
    "id": "v2vQINAR1zUO",
    "outputId": "d1aa238a-df8a-480c-9e26-25f1ee1f7716",
    "source_hash": "8bcd2c78",
    "tags": []
   },
   "outputs": [
    {
     "data": {
      "image/png": "[encoded data removed]",
      "text/plain": [
       "<Figure size 432x288 with 1 Axes>"
      ]
     },
     "metadata": {},
     "output_type": "display_data"
    }
   ],
   "source": [
    "#df with top ten states\n",
    "top_states = state_total.head(10).reset_index()\n",
    "\n",
    "sns.barplot(data = top_states, x = 'Total', y = 'State', orient = 'h', palette=\"Blues_r\") \\\n",
    "            .set(title = '1d: Top Ten U.S States Receiving Refugees (FY 2022) \\n');"
   ]
  },
  {
   "cell_type": "markdown",
   "metadata": {
    "cell_id": "347bcf2b195446b09464fd99b87c0650",
    "deepnote_app_coordinates": {
     "h": 5,
     "w": 12,
     "x": 0,
     "y": 115
    },
    "deepnote_cell_type": "text-cell-h2",
    "formattedRanges": [],
    "id": "oQJJYQC01zUO",
    "is_collapsed": false,
    "tags": []
   },
   "source": [
    "## Labor Market"
   ]
  },
  {
   "cell_type": "markdown",
   "metadata": {
    "cell_id": "7ed96634-b87f-45a2-888b-95e034eb5757",
    "deepnote_app_coordinates": {
     "h": 2,
     "w": 8,
     "x": 0,
     "y": 121
    },
    "deepnote_cell_type": "text-cell-p",
    "formattedRanges": [],
    "id": "3BBTqUBs1zUO",
    "is_collapsed": false,
    "tags": []
   },
   "source": [
    "In this section, we will be analyzing the top labor industries across all states in the U.S. The labor industries we will be looking at are the: Construction, Manufacturing - Durable Goods, Manufacturing - NonDurable Goods, Wholesale and retail trade, Transportation and utilities, Financial activities, Professional and business/services, Education and health services, Leisure and hospitality, Other services, and Public administration industry. Two industries were excluded from our analysis, Mining / Oil extraction and Agriculture, due to the lack of accurate data for these labor fields."
   ]
  },
  {
   "cell_type": "markdown",
   "metadata": {
    "cell_id": "f1e0cb9ce03445efa14d122df597bd4c",
    "deepnote_app_coordinates": {
     "h": 5,
     "w": 12,
     "x": 0,
     "y": 124
    },
    "deepnote_cell_type": "text-cell-h3",
    "formattedRanges": [],
    "id": "BwZIF7zX1zUO",
    "is_collapsed": false,
    "tags": []
   },
   "source": [
    "### Across the US"
   ]
  },
  {
   "cell_type": "markdown",
   "metadata": {
    "cell_id": "58f11068-dabe-441b-9606-e2200406881e",
    "deepnote_app_coordinates": {
     "h": 5,
     "w": 12,
     "x": 0,
     "y": 124
    },
    "deepnote_cell_type": "text-cell-p",
    "formattedRanges": [],
    "id": "BzA6dsrk1zUO",
    "is_collapsed": false,
    "tags": []
   },
   "source": [
    "the top employment industry in most states is Education and Health Services, followed by Wholesale retail trade."
   ]
  },
  {
   "cell_type": "code",
   "execution_count": 13,
   "metadata": {
    "cell_id": "c20d4e3f484f4ad9808991c64ae6a1ec",
    "deepnote_app_is_code_hidden": false,
    "deepnote_cell_type": "code",
    "deepnote_table_loading": false,
    "deepnote_table_state": {
     "filters": [],
     "pageIndex": 0,
     "pageSize": 10,
     "sortBy": []
    },
    "deepnote_to_be_reexecuted": false,
    "execution_millis": 519,
    "execution_start": 1673926760944,
    "id": "64utbLOK1zUO",
    "is_code_hidden": false,
    "outputId": "e14629d1-1645-4b01-dd0a-0f42ee839a31",
    "source_hash": "8d3e629d",
    "tags": []
   },
   "outputs": [
    {
     "name": "stderr",
     "output_type": "stream",
     "text": [
      "/Users/valentinasatizabal/opt/anaconda3/lib/python3.8/site-packages/pandas/core/frame.py:3191: SettingWithCopyWarning:\n",
      "\n",
      "\n",
      "A value is trying to be set on a copy of a slice from a DataFrame.\n",
      "Try using .loc[row_indexer,col_indexer] = value instead\n",
      "\n",
      "See the caveats in the documentation: https://pandas.pydata.org/pandas-docs/stable/user_guide/indexing.html#returning-a-view-versus-a-copy\n",
      "\n"
     ]
    },
    {
     "data": {
      "image/png": "[encoded data removed]",
      "text/plain": [
       "<Figure size 1008x360 with 1 Axes>"
      ]
     },
     "metadata": {},
     "output_type": "display_data"
    }
   ],
   "source": [
    "#load in data\n",
    "labor = pd.read_csv('data/Labor Geo Profiles.csv', header = 3)\n",
    "\n",
    "#data cleaning\n",
    "labor = labor.rename(columns = {'Employment status\\nand state' : 'Status and State', \n",
    "                                'Mining, quar-\\nrying, and\\noil and gas\\nextraction' : 'Mining, quarrying, and oil and gas extraction', \n",
    "                                'Manufacturing' : \"Manufacturing - Total\", \n",
    "                                'Unnamed: 5' : 'Manufacturing - Durable Goods', \n",
    "                                'Unnamed: 6' : 'Manufacturing - NonDurable Goods',\n",
    "                                'Wholesale\\nand retail\\ntrade' : 'Wholesale and retail trade', \n",
    "                                'Transport-\\nation and\\nutilities' : 'Transportation and utilities',\n",
    "                                'Financial\\nactivities' : \"Financial activities\",\n",
    "                                'Professional\\nand business\\nservices' : 'Professional and business/services',\n",
    "                                'Education\\nand health\\nservices' : 'Education and health services', \n",
    "                                'Leisure\\nand\\nhospitality' : 'Leisure and hospitality',\n",
    "                                'Other\\nservices' : 'Other services', \n",
    "                                'Public\\nadmini-\\nstration' : 'Public administration',\n",
    "                                'Agriculture\\nand related\\nindustries' : 'Agriculture and related industries'})\n",
    "labor = labor.dropna().reset_index()\n",
    "labor = labor.drop(columns = 'index')\n",
    "labor = labor.replace('(2)-', np.nan)\n",
    "labor = labor.replace(',', '', regex = True).reset_index()\n",
    "industries = ['Total', 'Mining, quarrying, and oil and gas extraction', 'Construction', 'Manufacturing - Total', 'Manufacturing - Durable Goods', 'Manufacturing - NonDurable Goods', 'Wholesale and retail trade', 'Transportation and utilities', 'Information', 'Financial activities', 'Professional and business/services', 'Education and health services', 'Leisure and hospitality', 'Other services', 'Public administration', 'Agriculture and related industries']\n",
    "\n",
    "#extracting only employed + cleaning\n",
    "labor_employed = labor[51:102]\n",
    "labor_employed[industries] = labor_employed[industries].astype(float)\n",
    "labor_employed = labor_employed.drop(columns = ['index']).reset_index()\n",
    "labor_employed = labor_employed.drop(columns = ['index', 'Total', 'Mining, quarrying, and oil and gas extraction', 'Manufacturing - Total', 'Agriculture and related industries', 'Information'])\n",
    "\n",
    "#labor_employed\n",
    "top5_US_industries = pd.melt(labor_employed, id_vars = 'Status and State').groupby('variable').sum().sort_values(by='value', ascending = False).head(5).reset_index()\n",
    "top5_US_industries = top5_US_industries.rename(columns={'value' : 'Individuals Employed (by the thousand)', 'variable' : 'Labor Industries'})\n",
    "\n",
    "#plotting\n",
    "plt.figure(figsize=(14, 5))\n",
    "sns.set_style(\"whitegrid\")\n",
    "sns.barplot(data = top5_US_industries, x = 'Labor Industries', y = 'Individuals Employed (by the thousand)', palette=\"Blues_r\") \\\n",
    "            .set(title = '2a: Top Employment Industries in U.S (2021)');"
   ]
  },
  {
   "cell_type": "markdown",
   "metadata": {
    "cell_id": "0bdef4b17e4f42ca8a16ce7ac114f494",
    "deepnote_app_coordinates": {
     "h": 2,
     "w": 8,
     "x": 0,
     "y": 142
    },
    "deepnote_cell_type": "text-cell-p",
    "formattedRanges": [],
    "id": "bbjCbOA41zUP",
    "is_collapsed": false,
    "tags": []
   },
   "source": [
    "Below is a look into the most popular state for each industry."
   ]
  },
  {
   "cell_type": "code",
   "execution_count": 8,
   "metadata": {
    "cell_id": "d80a1b6a4da146f2a1607a1fe808507f",
    "deepnote_app_coordinates": {
     "h": 5,
     "w": 12,
     "x": 0,
     "y": 145
    },
    "deepnote_app_is_code_hidden": true,
    "deepnote_cell_type": "code",
    "deepnote_to_be_reexecuted": false,
    "execution_millis": 1397,
    "execution_start": 1673926782565,
    "id": "TigOiwg91zUP",
    "outputId": "593dad54-e299-408d-d601-74bc79f3b0ca",
    "source_hash": "9b3e8f50",
    "tags": []
   },
   "outputs": [
    {
     "data": {
      "image/png": "[encoded data removed]",
      "text/plain": [
       "<Figure size 1800x1080 with 2 Axes>"
      ]
     },
     "metadata": {},
     "output_type": "display_data"
    }
   ],
   "source": [
    "labor_employed_index = labor_employed.set_index('Status and State')\n",
    "\n",
    "\n",
    "plt.subplots(figsize=(25,15))\n",
    "plt.title(\"2b: Top Industries for All States\", fontsize =25)\n",
    "sns.heatmap(labor_employed_index, cmap = 'Blues', xticklabels=True, yticklabels=True);"
   ]
  },
  {
   "cell_type": "markdown",
   "metadata": {
    "cell_id": "2f2bf79c-c373-49cf-836e-9fdc580362e0",
    "deepnote_app_coordinates": {
     "h": 5,
     "w": 12,
     "x": 0,
     "y": 154
    },
    "deepnote_cell_type": "text-cell-h3",
    "formattedRanges": [],
    "id": "i4S_bv6z1zUP",
    "is_collapsed": false,
    "tags": []
   },
   "source": [
    "### In Top States Receiving Refugees"
   ]
  },
  {
   "cell_type": "markdown",
   "metadata": {
    "cell_id": "805a54dd-3c79-4cd7-9b05-eb3861aa564b",
    "deepnote_app_coordinates": {
     "h": 5,
     "w": 12,
     "x": 0,
     "y": 154
    },
    "deepnote_cell_type": "text-cell-p",
    "formattedRanges": [],
    "id": "Qqe1IDjK1zUP",
    "is_collapsed": false,
    "tags": []
   },
   "source": [
    "shows the same trend as above, the Education and Health Services sector shows to be the top industries in the top states receiving Refugees."
   ]
  },
  {
   "cell_type": "code",
   "execution_count": 14,
   "metadata": {
    "cell_id": "fb4dc7ed273b405797f87881ee26da5b",
    "deepnote_cell_type": "code",
    "deepnote_to_be_reexecuted": false,
    "execution_millis": 449,
    "execution_start": 1673926999867,
    "id": "1ugAdkCr1zUP",
    "outputId": "e25685e0-f20d-4742-89f7-679edd5de154",
    "source_hash": "1942e09",
    "tags": []
   },
   "outputs": [
    {
     "data": {
      "image/png": "[encoded data removed]",
      "text/plain": [
       "<Figure size 1008x360 with 1 Axes>"
      ]
     },
     "metadata": {},
     "output_type": "display_data"
    }
   ],
   "source": [
    "#top 10 states\n",
    "top10_labor = labor_employed.loc[[4, 43, 32, 17, 47, 33, 35, 22, 38, 2]]\n",
    "\n",
    "#top10_labor\n",
    "top10_labor_index = top10_labor.set_index('Status and State')\n",
    "top5_top10_industries = pd.melt(top10_labor, id_vars = 'Status and State').groupby('variable').sum().sort_values(by='value', ascending = False).head(5).reset_index()\n",
    "top5_top10_industries = top5_top10_industries.rename(columns = {'variable':'Labor Industries', 'value':'Individuals Employed (by the thousand)'})\n",
    "\n",
    "#plotting\n",
    "plt.figure(figsize=(14, 5))\n",
    "sns.set_style(\"whitegrid\")\n",
    "sns.barplot(data = top5_top10_industries, x = 'Labor Industries', y = 'Individuals Employed (by the thousand)', palette=\"Blues_r\") \\\n",
    "            .set(title = '2c: Top Employment Industries in U.S in Top Ten Refugee-Receiving States (2021)');"
   ]
  },
  {
   "cell_type": "code",
   "execution_count": 10,
   "metadata": {
    "cell_id": "720802c2174045c98bda99b8b4862ecc",
    "deepnote_app_coordinates": {
     "h": 5,
     "w": 12,
     "x": 0,
     "y": 166
    },
    "deepnote_app_is_code_hidden": true,
    "deepnote_cell_type": "code",
    "deepnote_to_be_reexecuted": false,
    "execution_millis": 1250,
    "execution_start": 1673927040328,
    "id": "SjiZein41zUP",
    "outputId": "569b93ce-b22a-4c0a-d7ee-76ef9beda989",
    "source_hash": "ea41db91",
    "tags": []
   },
   "outputs": [
    {
     "data": {
      "image/png": "[encoded data removed]",
      "text/plain": [
       "<Figure size 1080x360 with 2 Axes>"
      ]
     },
     "metadata": {},
     "output_type": "display_data"
    }
   ],
   "source": [
    "#plot heatmap\n",
    "plt.subplots(figsize=(15,5))\n",
    "plt.title(\"2d: Top Industries for Top States\", fontsize =15)\n",
    "sns.heatmap(top10_labor_index, cmap = 'Blues', xticklabels=True, yticklabels=True);"
   ]
  },
  {
   "cell_type": "markdown",
   "metadata": {
    "cell_id": "93e73d71cd5e44f99edfc1cbdd6d7e0f",
    "deepnote_cell_type": "text-cell-h2",
    "formattedRanges": [],
    "id": "HdnAn-SP1zUP",
    "is_collapsed": false,
    "tags": []
   },
   "source": [
    "## Conclusion"
   ]
  },
  {
   "cell_type": "markdown",
   "metadata": {
    "cell_id": "f9402f1e-c60a-4e45-8a74-3187ecb15e3a",
    "deepnote_cell_type": "text-cell-p",
    "formattedRanges": [
     {
      "fromCodePoint": 414,
      "ranges": [],
      "toCodePoint": 421,
      "type": "link",
      "url": "https://www.bls.gov/ooh/healthcare/home.htm"
     }
    ],
    "id": "T_UVmdDi1zUP",
    "is_collapsed": false,
    "tags": []
   },
   "source": [
    "Given that most refugees in the U.S. are eligible to work, it would be most beneficial for these individuals to enter an industry that will provide them with room for growth in the long term. For this reason, it would be most favorable for these individuals to be trained in a subsector of the Health and Education industry. A list of jobs and educational attainment can be found on the Bureau of Labor Statistics website - some examples include Opticians, Vet Assistants, and Teacher Assistants. It's important to note that in order to grow in this industry, additional education achievements may be necessary."
   ]
  },
  {
   "cell_type": "markdown",
   "metadata": {
    "cell_id": "e58826cf-4d3d-44d9-b61d-9306ea1ae724",
    "deepnote_cell_type": "text-cell-p",
    "formattedRanges": [],
    "id": "3r2q3EdP1zUP",
    "is_collapsed": false,
    "tags": []
   },
   "source": [
    "Note: DHS has not released data for the 2022 Fiscal Year, therefore 2021 data was used in this project. In the future, numbers will need to be updated to better reflect the current demographics of Refugees in the U.S."
   ]
  }
 ],
 "metadata": {
  "colab": {
   "provenance": []
  },
  "deepnote": {},
  "deepnote_app_layout": "article",
  "deepnote_execution_queue": [],
  "deepnote_notebook_id": "72224a089cee4946bf840f85f193aa12",
  "kernelspec": {
   "display_name": "Python 3",
   "language": "python",
   "name": "python3"
  },
  "language_info": {
   "codemirror_mode": {
    "name": "ipython",
    "version": 3
   },
   "file_extension": ".py",
   "mimetype": "text/x-python",
   "name": "python",
   "nbconvert_exporter": "python",
   "pygments_lexer": "ipython3",
   "version": "3.8.8"
  }
 },
 "nbformat": 4,
 "nbformat_minor": 1
}
